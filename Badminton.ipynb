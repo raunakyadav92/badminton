{
  "nbformat": 4,
  "nbformat_minor": 0,
  "metadata": {
    "colab": {
      "provenance": [],
      "authorship_tag": "ABX9TyPDvxpEQOExcVXYXcxXC1QC",
      "include_colab_link": true
    },
    "kernelspec": {
      "name": "python3",
      "display_name": "Python 3"
    },
    "language_info": {
      "name": "python"
    }
  },
  "cells": [
    {
      "cell_type": "markdown",
      "metadata": {
        "id": "view-in-github",
        "colab_type": "text"
      },
      "source": [
        "<a href=\"https://colab.research.google.com/github/raunakyadav92/badminton/blob/main/Badminton.ipynb\" target=\"_parent\"><img src=\"https://colab.research.google.com/assets/colab-badge.svg\" alt=\"Open In Colab\"/></a>"
      ]
    },
    {
      "cell_type": "code",
      "execution_count": null,
      "metadata": {
        "colab": {
          "base_uri": "https://localhost:8080/"
        },
        "id": "oLLgyBZthUpf",
        "outputId": "b6d48c69-1eef-4918-91ca-f9c97407935f"
      },
      "outputs": [
        {
          "output_type": "stream",
          "name": "stdout",
          "text": [
            "pygame 2.6.1 (SDL 2.28.4, Python 3.11.13)\n",
            "Hello from the pygame community. https://www.pygame.org/contribute.html\n"
          ]
        }
      ],
      "source": [
        "import pygame\n",
        "import random\n",
        "\n",
        "# Initialize Pygame\n",
        "pygame.init()\n",
        "\n",
        "# Screen dimensions\n",
        "WIDTH, HEIGHT = 800, 600\n",
        "win = pygame.display.set_mode((WIDTH, HEIGHT))\n",
        "pygame.display.set_caption(\"Badminton Game - Player vs AI\")\n",
        "\n",
        "# Colors\n",
        "WHITE = (255, 255, 255)\n",
        "BLACK = (0, 0, 0)\n",
        "\n",
        "# Player & Opponent setup\n",
        "player = pygame.Rect(50, HEIGHT // 2 - 60, 20, 120)\n",
        "opponent = pygame.Rect(WIDTH - 70, HEIGHT // 2 - 60, 20, 120)\n",
        "shuttle = pygame.Rect(WIDTH // 2 - 10, HEIGHT // 2 - 10, 20, 20)\n",
        "\n",
        "# Speeds\n",
        "player_speed = 0\n",
        "player_move_speed = 7\n",
        "opponent_speed = 7\n",
        "shuttle_speed_x = 7 * random.choice((1, -1))\n",
        "shuttle_speed_y = 7 * random.choice((1, -1))\n",
        "\n",
        "# Clock and font\n",
        "clock = pygame.time.Clock()\n",
        "font = pygame.font.Font(None, 50)\n",
        "\n",
        "# Scores\n",
        "player_score = 0\n",
        "opponent_score = 0\n",
        "\n",
        "# Reset shuttle position\n",
        "def reset_shuttle():\n",
        "    global shuttle_speed_x, shuttle_speed_y\n",
        "    shuttle.center = (WIDTH // 2, HEIGHT // 2)\n",
        "    shuttle_speed_x = 7 * random.choice((1, -1))\n",
        "    shuttle_speed_y = 7 * random.choice((1, -1))\n",
        "\n",
        "# Draw game elements\n",
        "def draw():\n",
        "    win.fill(BLACK)\n",
        "    pygame.draw.rect(win, WHITE, player)\n",
        "    pygame.draw.rect(win, WHITE, opponent)\n",
        "    pygame.draw.ellipse(win, WHITE, shuttle)\n",
        "    pygame.draw.aaline(win, WHITE, (WIDTH // 2, 0), (WIDTH // 2, HEIGHT))\n",
        "\n",
        "    player_text = font.render(f\"{player_score}\", True, WHITE)\n",
        "    opponent_text = font.render(f\"{opponent_score}\", True, WHITE)\n",
        "    win.blit(player_text, (WIDTH // 2 - 80, 20))\n",
        "    win.blit(opponent_text, (WIDTH // 2 + 50, 20))\n",
        "\n",
        "    pygame.display.flip()\n",
        "\n",
        "# Game loop\n",
        "running = True\n",
        "while running:\n",
        "    clock.tick(60)  # 60 FPS\n",
        "\n",
        "    for event in pygame.event.get():\n",
        "        if event.type == pygame.QUIT:\n",
        "            running = False\n",
        "\n",
        "        # Player controls\n",
        "        if event.type == pygame.KEYDOWN:\n",
        "            if event.key == pygame.K_UP:\n",
        "                player_speed = -player_move_speed\n",
        "            if event.key == pygame.K_DOWN:\n",
        "                player_speed = player_move_speed\n",
        "        if event.type == pygame.KEYUP:\n",
        "            if event.key in (pygame.K_UP, pygame.K_DOWN):\n",
        "                player_speed = 0\n",
        "\n",
        "    # Player movement\n",
        "    player.y += player_speed\n",
        "    if player.top <= 0:\n",
        "        player.top = 0\n",
        "    if player.bottom >= HEIGHT:\n",
        "        player.bottom = HEIGHT\n",
        "\n",
        "    # Opponent AI movement (simple)\n",
        "    if opponent.centery < shuttle.centery:\n",
        "        opponent.y += opponent_speed\n",
        "    if opponent.centery > shuttle.centery:\n",
        "        opponent.y -= opponent_speed\n",
        "    if opponent.top <= 0:\n",
        "        opponent.top = 0\n",
        "    if opponent.bottom >= HEIGHT:\n",
        "        opponent.bottom = HEIGHT\n",
        "\n",
        "    # Shuttle movement\n",
        "    shuttle.x += shuttle_speed_x\n",
        "    shuttle.y += shuttle_speed_y\n",
        "\n",
        "    # Bounce from top/bottom\n",
        "    if shuttle.top <= 0 or shuttle.bottom >= HEIGHT:\n",
        "        shuttle_speed_y *= -1\n",
        "\n",
        "    # Collision with paddles\n",
        "    if shuttle.colliderect(player) or shuttle.colliderect(opponent):\n",
        "        shuttle_speed_x *= -1\n",
        "\n",
        "    # Score conditions\n",
        "    if shuttle.left <= 0:\n",
        "        opponent_score += 1\n",
        "        reset_shuttle()\n",
        "\n",
        "    if shuttle.right >= WIDTH:\n",
        "        player_score += 1\n",
        "        reset_shuttle()\n",
        "\n",
        "    draw()\n",
        "\n",
        "pygame.quit()\n"
      ]
    },
    {
      "cell_type": "code",
      "source": [
        "pip install pygame\n"
      ],
      "metadata": {
        "id": "2Y0QIBxiib4Q"
      },
      "execution_count": null,
      "outputs": []
    }
  ]
}